{
 "cells": [
  {
   "cell_type": "markdown",
   "id": "c8819638",
   "metadata": {},
   "source": [
    "Using endf[https://endf-python.readthedocs.io/en/latest/reference/index.html#module-endf] read ENDF-6 format nuclear data plot them."
   ]
  },
  {
   "cell_type": "code",
   "execution_count": 3,
   "id": "c1c9abb2",
   "metadata": {},
   "outputs": [],
   "source": [
    "import endf\n",
    "import matplotlib.pyplot as plt\n",
    "import numpy as np"
   ]
  },
  {
   "cell_type": "code",
   "execution_count": 4,
   "id": "b74e2eae",
   "metadata": {},
   "outputs": [],
   "source": [
    "# Read an ENDF file\n",
    "mat = endf.Material('u235.endf')"
   ]
  },
  {
   "cell_type": "code",
   "execution_count": 5,
   "id": "15ed1b53",
   "metadata": {},
   "outputs": [],
   "source": [
    "u235 = mat.interpret()"
   ]
  },
  {
   "cell_type": "code",
   "execution_count": 6,
   "id": "706345aa",
   "metadata": {},
   "outputs": [
    {
     "data": {
      "text/plain": [
       "<IncidentNeutron: U235, 1 reactions>"
      ]
     },
     "execution_count": 6,
     "metadata": {},
     "output_type": "execute_result"
    }
   ],
   "source": [
    "u235"
   ]
  },
  {
   "cell_type": "code",
   "execution_count": 7,
   "id": "9b8963b3",
   "metadata": {},
   "outputs": [
    {
     "data": {
      "text/plain": [
       "{18: <Reaction: MT=18 (n,fission)>}"
      ]
     },
     "execution_count": 7,
     "metadata": {},
     "output_type": "execute_result"
    }
   ],
   "source": [
    "u235.reactions"
   ]
  },
  {
   "cell_type": "code",
   "execution_count": 8,
   "id": "0baf657e",
   "metadata": {},
   "outputs": [
    {
     "data": {
      "text/plain": [
       "<Reaction: MT=18 (n,fission)>"
      ]
     },
     "execution_count": 8,
     "metadata": {},
     "output_type": "execute_result"
    }
   ],
   "source": [
    "u235.reactions[18]"
   ]
  },
  {
   "cell_type": "code",
   "execution_count": 9,
   "id": "26c951b1",
   "metadata": {},
   "outputs": [],
   "source": [
    "u235nf = u235.reactions[18]"
   ]
  },
  {
   "cell_type": "code",
   "execution_count": 10,
   "id": "2e4a4bff",
   "metadata": {},
   "outputs": [],
   "source": [
    "u235nfxs = u235nf.xs"
   ]
  },
  {
   "cell_type": "code",
   "execution_count": 11,
   "id": "1afad289",
   "metadata": {},
   "outputs": [
    {
     "data": {
      "text/plain": [
       "array([1.0000e-05, 2.2500e+03, 2.2500e+03, 2.2503e+03, 2.2536e+03,\n",
       "       2.2561e+03, 2.2566e+03, 2.2596e+03, 2.2651e+03, 2.2699e+03,\n",
       "       2.2715e+03, 2.2764e+03, 2.2790e+03, 2.2891e+03, 2.2937e+03,\n",
       "       2.2969e+03, 2.2994e+03, 2.3020e+03, 2.3046e+03, 2.3057e+03,\n",
       "       2.3134e+03, 2.3139e+03, 2.3187e+03, 2.3214e+03, 2.3321e+03,\n",
       "       2.3375e+03, 2.3446e+03, 2.3477e+03, 2.3483e+03, 2.3510e+03,\n",
       "       2.3537e+03, 2.3591e+03, 2.3654e+03, 2.3698e+03, 2.3727e+03,\n",
       "       2.3735e+03, 2.3789e+03, 2.3816e+03, 2.3858e+03, 2.3923e+03,\n",
       "       2.3953e+03, 2.4053e+03, 2.4063e+03, 2.4113e+03, 2.4156e+03,\n",
       "       2.4217e+03, 2.4270e+03, 2.4288e+03, 2.4336e+03, 2.4364e+03,\n",
       "       2.4415e+03, 2.4427e+03, 2.4454e+03, 2.4483e+03, 2.4512e+03,\n",
       "       2.4617e+03, 2.4655e+03, 2.4703e+03, 2.4770e+03, 2.4854e+03,\n",
       "       2.4874e+03, 2.4915e+03, 2.4960e+03, 2.5000e+03, 2.5018e+03,\n",
       "       2.5032e+03, 2.5149e+03, 2.5200e+03, 2.5235e+03, 2.5255e+03,\n",
       "       2.5278e+03, 2.5328e+03, 2.5376e+03, 2.5482e+03, 2.5508e+03,\n",
       "       2.5524e+03, 2.5625e+03, 2.5661e+03, 2.5689e+03, 2.5703e+03,\n",
       "       2.5769e+03, 2.5781e+03, 2.5811e+03, 2.5867e+03, 2.5913e+03,\n",
       "       2.5957e+03, 2.5987e+03, 2.6046e+03, 2.6107e+03, 2.6178e+03,\n",
       "       2.6318e+03, 2.6364e+03, 2.6399e+03, 2.6449e+03, 2.6531e+03,\n",
       "       2.6583e+03, 2.6666e+03, 2.6746e+03, 2.6780e+03, 2.6900e+03,\n",
       "       2.6993e+03, 2.7020e+03, 2.7052e+03, 2.7055e+03, 2.7185e+03,\n",
       "       2.7246e+03, 2.7337e+03, 2.7364e+03, 2.7400e+03, 2.7431e+03,\n",
       "       2.7463e+03, 2.7515e+03, 2.7588e+03, 2.7622e+03, 2.7635e+03,\n",
       "       2.7781e+03, 2.7836e+03, 2.7909e+03, 2.7941e+03, 2.8006e+03,\n",
       "       2.8070e+03, 2.8090e+03, 2.8132e+03, 2.8139e+03, 2.8200e+03,\n",
       "       2.8244e+03, 2.8280e+03, 2.8339e+03, 2.8377e+03, 2.8421e+03,\n",
       "       2.8432e+03, 2.8487e+03, 2.8582e+03, 2.8624e+03, 2.8691e+03,\n",
       "       2.8791e+03, 2.8857e+03, 2.8925e+03, 2.8961e+03, 2.9071e+03,\n",
       "       2.9090e+03, 2.9124e+03, 2.9218e+03, 2.9255e+03, 2.9393e+03,\n",
       "       2.9489e+03, 2.9563e+03, 2.9622e+03, 2.9665e+03, 2.9712e+03,\n",
       "       2.9767e+03, 2.9781e+03, 2.9857e+03, 2.9982e+03, 3.0044e+03,\n",
       "       3.0083e+03, 3.0127e+03, 3.0204e+03, 3.0281e+03, 3.0313e+03,\n",
       "       3.0356e+03, 3.0426e+03, 3.0478e+03, 3.0498e+03, 3.0597e+03,\n",
       "       3.0708e+03, 3.0721e+03, 3.0850e+03, 3.0910e+03, 3.0921e+03,\n",
       "       3.0997e+03, 3.1038e+03, 3.1099e+03, 3.1149e+03, 3.1279e+03,\n",
       "       3.1342e+03, 3.1387e+03, 3.1423e+03, 3.1496e+03, 3.1536e+03,\n",
       "       3.1585e+03, 3.1733e+03, 3.1787e+03, 3.1931e+03, 3.1948e+03,\n",
       "       3.2132e+03, 3.2161e+03, 3.2246e+03, 3.2289e+03, 3.2332e+03,\n",
       "       3.2347e+03, 3.2453e+03, 3.2517e+03, 3.2585e+03, 3.2603e+03,\n",
       "       3.2641e+03, 3.2706e+03, 3.2723e+03, 3.2848e+03, 3.2900e+03,\n",
       "       3.3018e+03, 3.3109e+03, 3.3162e+03, 3.3176e+03, 3.3229e+03,\n",
       "       3.3301e+03, 3.3321e+03, 3.3362e+03, 3.3442e+03, 3.3481e+03,\n",
       "       3.3588e+03, 3.3694e+03, 3.3748e+03, 3.3765e+03, 3.3968e+03,\n",
       "       3.4125e+03, 3.4188e+03, 3.4298e+03, 3.4408e+03, 3.4481e+03,\n",
       "       3.4614e+03, 3.4654e+03, 3.4706e+03, 3.4876e+03, 3.4974e+03,\n",
       "       3.5055e+03, 3.5298e+03, 3.5436e+03, 3.5511e+03, 3.5629e+03,\n",
       "       3.5746e+03, 3.5806e+03, 3.5865e+03, 3.5913e+03, 3.6023e+03,\n",
       "       3.6074e+03, 3.6162e+03, 3.6277e+03, 3.6344e+03, 3.6431e+03,\n",
       "       3.6508e+03, 3.6538e+03, 3.6581e+03, 3.6742e+03, 3.6847e+03,\n",
       "       3.6919e+03, 3.7047e+03, 3.7163e+03, 3.7270e+03, 3.7519e+03,\n",
       "       3.7587e+03, 3.7651e+03, 3.7736e+03, 3.7887e+03, 3.8037e+03,\n",
       "       3.8297e+03, 3.8473e+03, 3.8526e+03, 3.8639e+03, 3.9028e+03,\n",
       "       3.9231e+03, 3.9323e+03, 3.9370e+03, 3.9460e+03, 3.9550e+03,\n",
       "       3.9573e+03, 3.9641e+03, 3.9688e+03, 3.9742e+03, 3.9879e+03,\n",
       "       4.0006e+03, 4.0387e+03, 4.0986e+03, 4.1139e+03, 4.1252e+03,\n",
       "       4.1695e+03, 4.1904e+03, 4.1993e+03, 4.2021e+03, 4.2372e+03,\n",
       "       4.2442e+03, 4.2525e+03, 4.2678e+03, 4.2781e+03, 4.2880e+03,\n",
       "       4.2929e+03, 4.2949e+03, 4.3015e+03, 4.3214e+03, 4.3376e+03,\n",
       "       4.3448e+03, 4.3489e+03, 4.3568e+03, 4.3648e+03, 4.3853e+03,\n",
       "       4.3887e+03, 4.3955e+03, 4.4229e+03, 4.4284e+03, 4.4437e+03,\n",
       "       4.4541e+03, 4.4646e+03, 4.4746e+03, 4.4891e+03, 4.5139e+03,\n",
       "       4.5473e+03, 4.5578e+03, 4.5711e+03, 4.5967e+03, 4.6211e+03,\n",
       "       4.6334e+03, 4.6490e+03, 4.6556e+03, 4.6728e+03, 4.6800e+03,\n",
       "       4.6961e+03, 4.7157e+03, 4.7252e+03, 4.7462e+03, 4.7613e+03,\n",
       "       4.7731e+03, 4.7790e+03, 4.8001e+03, 4.8153e+03, 4.8222e+03,\n",
       "       4.8274e+03, 4.8474e+03, 4.8666e+03, 4.8949e+03, 4.9315e+03,\n",
       "       4.9574e+03, 4.9745e+03, 4.9802e+03, 4.9846e+03, 4.9970e+03,\n",
       "       5.0161e+03, 5.0260e+03, 5.0437e+03, 5.0546e+03, 5.0556e+03,\n",
       "       5.0599e+03, 5.0699e+03, 5.0935e+03, 5.0999e+03, 5.1192e+03,\n",
       "       5.1257e+03, 5.1316e+03, 5.1537e+03, 5.1607e+03, 5.1623e+03,\n",
       "       5.1790e+03, 5.2014e+03, 5.2030e+03, 5.2150e+03, 5.2270e+03,\n",
       "       5.2325e+03, 5.2414e+03, 5.2727e+03, 5.2771e+03, 5.2920e+03,\n",
       "       5.2997e+03, 5.3119e+03, 5.3223e+03, 5.3289e+03, 5.3564e+03,\n",
       "       5.3672e+03, 5.3858e+03, 5.3958e+03, 5.4044e+03, 5.4051e+03,\n",
       "       5.4159e+03, 5.4266e+03, 5.4379e+03, 5.4603e+03, 5.4704e+03,\n",
       "       5.4939e+03, 5.5165e+03, 5.5278e+03, 5.5453e+03, 5.5621e+03,\n",
       "       5.5851e+03, 5.6082e+03, 5.6144e+03, 5.6377e+03, 5.6550e+03,\n",
       "       5.6755e+03, 5.6904e+03, 5.6918e+03, 5.7511e+03, 5.7644e+03,\n",
       "       5.7710e+03, 5.7843e+03, 5.8287e+03, 5.8479e+03, 5.8580e+03,\n",
       "       5.8648e+03, 5.8666e+03, 5.8850e+03, 5.9102e+03, 5.9354e+03,\n",
       "       5.9720e+03, 6.0569e+03, 6.0639e+03, 6.0928e+03, 6.1263e+03,\n",
       "       6.1601e+03, 6.1763e+03, 6.1909e+03, 6.2114e+03, 6.2229e+03,\n",
       "       6.2372e+03, 6.2625e+03, 6.2750e+03, 6.2842e+03, 6.3042e+03,\n",
       "       6.3265e+03, 6.3395e+03, 6.3424e+03, 6.3716e+03, 6.3937e+03,\n",
       "       6.4039e+03, 6.4528e+03, 6.4594e+03, 6.4901e+03, 6.5083e+03,\n",
       "       6.5426e+03, 6.5626e+03, 6.5696e+03, 6.5728e+03, 6.5827e+03,\n",
       "       6.6394e+03, 6.6840e+03, 6.6950e+03, 6.7182e+03, 6.7336e+03,\n",
       "       6.7414e+03, 6.8007e+03, 6.8114e+03, 6.8336e+03, 6.8469e+03,\n",
       "       6.8602e+03, 6.8735e+03, 6.8746e+03, 6.9055e+03, 6.9340e+03,\n",
       "       6.9515e+03, 6.9543e+03, 6.9782e+03, 6.9938e+03, 6.9952e+03,\n",
       "       7.0151e+03, 7.0296e+03, 7.0365e+03, 7.0573e+03, 7.0833e+03,\n",
       "       7.1061e+03, 7.1450e+03, 7.1656e+03, 7.2054e+03, 7.2152e+03,\n",
       "       7.2558e+03, 7.3012e+03, 7.3287e+03, 7.3325e+03, 7.3892e+03,\n",
       "       7.3993e+03, 7.4028e+03, 7.4245e+03, 7.4880e+03, 7.5206e+03,\n",
       "       7.5465e+03, 7.5773e+03, 7.5814e+03, 7.6076e+03, 7.6227e+03,\n",
       "       7.6474e+03, 7.6692e+03, 7.7104e+03, 7.7422e+03, 7.7669e+03,\n",
       "       7.7823e+03, 7.8064e+03, 7.8226e+03, 7.8596e+03, 7.8796e+03,\n",
       "       7.9452e+03, 7.9937e+03, 7.9962e+03, 8.0122e+03, 8.0292e+03,\n",
       "       8.0399e+03, 8.0839e+03, 8.0885e+03, 8.1040e+03, 8.1056e+03,\n",
       "       8.1977e+03, 8.2461e+03, 8.2704e+03, 8.2881e+03, 8.3278e+03,\n",
       "       8.3555e+03, 8.3682e+03, 8.3771e+03, 8.4068e+03, 8.4859e+03,\n",
       "       8.5065e+03, 8.5163e+03, 8.5533e+03, 8.5655e+03, 8.6019e+03,\n",
       "       8.6532e+03, 8.6846e+03, 8.7347e+03, 8.7650e+03, 8.7953e+03,\n",
       "       8.8123e+03, 8.8268e+03, 8.8665e+03, 8.8869e+03, 8.9176e+03,\n",
       "       9.0002e+03, 9.1342e+03, 9.2523e+03, 9.2736e+03, 9.2874e+03,\n",
       "       9.4489e+03, 9.5313e+03, 9.5775e+03, 9.6090e+03, 9.6438e+03,\n",
       "       9.6661e+03, 9.7219e+03, 9.7251e+03, 9.7461e+03, 9.7668e+03,\n",
       "       9.7687e+03, 9.7800e+03, 9.8118e+03, 9.8458e+03, 9.8661e+03,\n",
       "       9.8912e+03, 9.9255e+03, 9.9638e+03, 9.9738e+03, 1.0021e+04,\n",
       "       1.0081e+04, 1.0153e+04, 1.0209e+04, 1.0479e+04, 1.0675e+04,\n",
       "       1.0804e+04, 1.0907e+04, 1.0944e+04, 1.0986e+04, 1.1057e+04,\n",
       "       1.1252e+04, 1.1318e+04, 1.1394e+04, 1.1409e+04, 1.1466e+04,\n",
       "       1.1530e+04, 1.1700e+04, 1.1789e+04, 1.1834e+04, 1.1906e+04,\n",
       "       1.2079e+04, 1.2161e+04, 1.2274e+04, 1.2619e+04, 1.2896e+04,\n",
       "       1.3281e+04, 1.3477e+04, 1.3748e+04, 1.3928e+04, 1.4020e+04,\n",
       "       1.4245e+04, 1.4406e+04, 1.4862e+04, 1.4925e+04, 1.5033e+04,\n",
       "       1.5138e+04, 1.5340e+04, 1.5656e+04, 1.6491e+04, 1.6690e+04,\n",
       "       1.6767e+04, 1.6972e+04, 1.7502e+04, 1.7752e+04, 1.8190e+04,\n",
       "       1.8784e+04, 1.9063e+04, 1.9250e+04, 1.9407e+04, 1.9535e+04,\n",
       "       1.9925e+04, 2.0011e+04, 2.0054e+04, 2.0360e+04, 2.0607e+04,\n",
       "       2.0739e+04, 2.0844e+04, 2.1494e+04, 2.1605e+04, 2.1754e+04,\n",
       "       2.1868e+04, 2.2119e+04, 2.2290e+04, 2.2368e+04, 2.2526e+04,\n",
       "       2.2626e+04, 2.2765e+04, 2.2968e+04, 2.3132e+04, 2.3398e+04,\n",
       "       2.3495e+04, 2.3698e+04, 2.3799e+04, 2.4106e+04, 2.4153e+04,\n",
       "       2.4197e+04, 2.5176e+04, 2.5244e+04, 2.5576e+04, 2.5624e+04,\n",
       "       2.5817e+04, 2.6161e+04, 2.6310e+04, 2.6360e+04, 2.6662e+04,\n",
       "       2.6797e+04, 2.7024e+04, 2.7605e+04, 2.8040e+04, 2.8655e+04,\n",
       "       2.8769e+04, 2.9173e+04, 2.9232e+04, 2.9964e+04, 3.1145e+04,\n",
       "       3.2055e+04, 3.2394e+04, 3.3557e+04, 3.4468e+04, 3.4601e+04,\n",
       "       3.4694e+04, 3.4770e+04, 3.5386e+04, 3.6832e+04, 3.7418e+04,\n",
       "       3.7760e+04, 3.7846e+04, 3.8106e+04, 3.8368e+04, 3.8456e+04,\n",
       "       3.8634e+04, 3.8876e+04, 3.9264e+04, 3.9816e+04, 4.0381e+04,\n",
       "       4.0629e+04, 4.1447e+04, 4.2147e+04, 4.2249e+04, 4.2351e+04,\n",
       "       4.2555e+04, 4.2992e+04, 4.5816e+04, 4.6386e+04, 4.6867e+04,\n",
       "       4.7346e+04, 4.8079e+04, 4.8202e+04, 4.8451e+04, 4.8828e+04,\n",
       "       4.8955e+04, 4.9082e+04, 5.1594e+04, 5.2287e+04, 5.2852e+04,\n",
       "       5.3426e+04, 5.4150e+04, 5.5357e+04, 5.9717e+04, 6.0406e+04,\n",
       "       6.1108e+04, 6.3288e+04, 6.4039e+04, 6.5390e+04, 6.5586e+04,\n",
       "       6.5870e+04, 6.6180e+04, 6.6581e+04, 6.6816e+04, 6.7189e+04,\n",
       "       6.7781e+04, 6.8012e+04, 6.8639e+04, 6.8851e+04, 6.9490e+04,\n",
       "       7.0356e+04, 7.1016e+04, 7.1861e+04, 7.2500e+04, 7.2823e+04,\n",
       "       7.3753e+04, 7.4601e+04, 7.5000e+04, 8.5000e+04, 9.5000e+04,\n",
       "       1.0000e+05, 1.2000e+05, 1.5000e+05, 1.7000e+05, 1.8000e+05,\n",
       "       1.9000e+05, 2.0000e+05, 2.1000e+05, 2.2000e+05, 2.3000e+05,\n",
       "       2.3500e+05, 2.4000e+05, 2.4500e+05, 2.5000e+05, 2.6000e+05,\n",
       "       2.7000e+05, 2.8000e+05, 3.0000e+05, 3.2500e+05, 3.5000e+05,\n",
       "       3.7500e+05, 4.0000e+05, 4.2500e+05, 4.5000e+05, 4.7500e+05,\n",
       "       5.0000e+05, 5.2000e+05, 5.4000e+05, 5.7000e+05, 6.0000e+05,\n",
       "       6.5000e+05, 7.0000e+05, 7.5000e+05, 8.0000e+05, 8.5000e+05,\n",
       "       9.0000e+05, 9.4000e+05, 9.6000e+05, 9.8000e+05, 1.0000e+06,\n",
       "       1.1000e+06, 1.2500e+06, 1.4000e+06, 1.6000e+06, 1.8000e+06,\n",
       "       2.0000e+06, 2.2000e+06, 2.4000e+06, 2.6000e+06, 2.8000e+06,\n",
       "       3.0000e+06, 3.6000e+06, 4.0000e+06, 4.5000e+06, 4.7000e+06,\n",
       "       5.0000e+06, 5.3000e+06, 5.5000e+06, 5.8000e+06, 6.0000e+06,\n",
       "       6.2000e+06, 6.5000e+06, 7.0000e+06, 7.5000e+06, 7.7500e+06,\n",
       "       8.0000e+06, 8.5000e+06, 9.0000e+06, 1.0000e+07, 1.1000e+07,\n",
       "       1.1500e+07, 1.2000e+07, 1.3000e+07, 1.4000e+07, 1.4500e+07,\n",
       "       1.5000e+07, 1.6000e+07, 1.7000e+07, 1.8000e+07, 1.9000e+07,\n",
       "       2.0000e+07, 2.1000e+07, 2.2000e+07, 2.3000e+07, 2.4000e+07,\n",
       "       2.5000e+07, 2.6000e+07, 2.7000e+07, 2.8000e+07, 2.9000e+07,\n",
       "       3.0000e+07])"
      ]
     },
     "execution_count": 11,
     "metadata": {},
     "output_type": "execute_result"
    }
   ],
   "source": [
    "u235nfxs['0K'].x"
   ]
  },
  {
   "cell_type": "code",
   "execution_count": 2,
   "id": "3aab7cc3",
   "metadata": {
    "scrolled": true
   },
   "outputs": [
    {
     "ename": "NameError",
     "evalue": "name 'plt' is not defined",
     "output_type": "error",
     "traceback": [
      "\u001b[0;31m---------------------------------------------------------------------------\u001b[0m",
      "\u001b[0;31mNameError\u001b[0m                                 Traceback (most recent call last)",
      "Input \u001b[0;32mIn [2]\u001b[0m, in \u001b[0;36m<cell line: 1>\u001b[0;34m()\u001b[0m\n\u001b[0;32m----> 1\u001b[0m \u001b[43mplt\u001b[49m\u001b[38;5;241m.\u001b[39mplot(u235nfxs[\u001b[38;5;124m'\u001b[39m\u001b[38;5;124m0K\u001b[39m\u001b[38;5;124m'\u001b[39m]\u001b[38;5;241m.\u001b[39mx, u235nfxs[\u001b[38;5;124m'\u001b[39m\u001b[38;5;124m0K\u001b[39m\u001b[38;5;124m'\u001b[39m]\u001b[38;5;241m.\u001b[39my, marker\u001b[38;5;241m=\u001b[39m\u001b[38;5;124m'\u001b[39m\u001b[38;5;124m.\u001b[39m\u001b[38;5;124m'\u001b[39m, label\u001b[38;5;241m=\u001b[39m\u001b[38;5;124m'\u001b[39m\u001b[38;5;124mFission\u001b[39m\u001b[38;5;124m'\u001b[39m)\n\u001b[1;32m      2\u001b[0m plt\u001b[38;5;241m.\u001b[39mxscale(\u001b[38;5;124m'\u001b[39m\u001b[38;5;124mlog\u001b[39m\u001b[38;5;124m'\u001b[39m)\n\u001b[1;32m      3\u001b[0m plt\u001b[38;5;241m.\u001b[39myscale(\u001b[38;5;124m'\u001b[39m\u001b[38;5;124mlog\u001b[39m\u001b[38;5;124m'\u001b[39m)\n",
      "\u001b[0;31mNameError\u001b[0m: name 'plt' is not defined"
     ]
    }
   ],
   "source": [
    "plt.plot(u235nfxs['0K'].x, u235nfxs['0K'].y, marker='.', label='Fission')\n",
    "plt.xscale('log')\n",
    "plt.yscale('log')\n",
    "#plt.ylim([0, 1])\n",
    "plt.show()"
   ]
  },
  {
   "cell_type": "code",
   "execution_count": 91,
   "id": "3c19b3e7",
   "metadata": {
    "scrolled": true
   },
   "outputs": [
    {
     "data": {
      "image/png": "[encoded data removed]",
      "text/plain": [
       "<Figure size 432x288 with 1 Axes>"
      ]
     },
     "metadata": {
      "needs_background": "light"
     },
     "output_type": "display_data"
    }
   ],
   "source": [
    "xs = mat.section_data[3, 18]['sigma']\n",
    "#energies = np.linspace(10e-4, 10e6, 1000)\n",
    "#xs(energies)\n",
    "plt.plot(xs.x, xs.y, marker='.', label='Fission')\n",
    "plt.xscale('log')\n",
    "plt.yscale('log')\n",
    "plt.show()"
   ]
  },
  {
   "cell_type": "code",
   "execution_count": null,
   "id": "a7fe16bd",
   "metadata": {},
   "outputs": [],
   "source": [
    "energy_grid = total_xs.energy()\n",
    "plt.plot(total_xs.energy(), total_xs.xs(), label='Total', linewidth=0.75)\n",
    "plt.plot(elastic_xs.energy(), elastic_xs.xs(), label='Elastic', linewidth=0.75)\n",
    "plt.plot(disappearance_xs.energy(), disappearance_xs.xs(), label='Disappearance', linewidth=0.75)\n",
    "plt.plot(fission_xs.energy(), fission_xs.xs(), label='Fission', linewidth=0.75)\n",
    "plt.xscale('log')\n",
    "plt.yscale('log')\n",
    "plt.xlabel('Energy [MeV]')\n",
    "plt.ylabel('Cross Section [barns]')\n",
    "plt.title('Cross Sections for U235 at %ik' %int(U235.temperature()))\n",
    "plt.tight_layout()\n",
    "plt.legend()\n",
    "plt.show()"
   ]
  }
 ],
 "metadata": {
  "kernelspec": {
   "display_name": "Python 3 (ipykernel)",
   "language": "python",
   "name": "python3"
  },
  "language_info": {
   "codemirror_mode": {
    "name": "ipython",
    "version": 3
   },
   "file_extension": ".py",
   "mimetype": "text/x-python",
   "name": "python",
   "nbconvert_exporter": "python",
   "pygments_lexer": "ipython3",
   "version": "3.8.6"
  }
 },
 "nbformat": 4,
 "nbformat_minor": 5
}
